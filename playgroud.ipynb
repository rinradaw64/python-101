{
 "cells": [
  {
   "cell_type": "code",
   "execution_count": 59,
   "id": "9bd8f283-7a6c-4442-a9ea-3a34f589d1d4",
   "metadata": {},
   "outputs": [],
   "source": [
    "import pandas as pd\n",
    "from customer_variations import customer_variations"
   ]
  },
  {
   "cell_type": "code",
   "execution_count": 44,
   "id": "211f1792-ecda-4003-b10f-1032c01cf81f",
   "metadata": {},
   "outputs": [],
   "source": [
    "data = {\n",
    "    \"name\": [\"Rinrada\", \"Mimisioling\"],\n",
    "    \"location\": [\"BKK\",\"Taiwan\"],\n",
    "    \"customer\": [\"GITHUB\",\"กิตฮับบึค\"]\n",
    "}"
   ]
  },
  {
   "cell_type": "code",
   "execution_count": 45,
   "id": "b7628c4a-89c8-4cc1-87ba-9923ac45307a",
   "metadata": {},
   "outputs": [],
   "source": [
    "df = pd.DataFrame(data)"
   ]
  },
  {
   "cell_type": "code",
   "execution_count": 46,
   "id": "387ca2ec-93e1-46eb-aa27-b56be0fe31a8",
   "metadata": {},
   "outputs": [
    {
     "data": {
      "text/html": [
       "<div>\n",
       "<style scoped>\n",
       "    .dataframe tbody tr th:only-of-type {\n",
       "        vertical-align: middle;\n",
       "    }\n",
       "\n",
       "    .dataframe tbody tr th {\n",
       "        vertical-align: top;\n",
       "    }\n",
       "\n",
       "    .dataframe thead th {\n",
       "        text-align: right;\n",
       "    }\n",
       "</style>\n",
       "<table border=\"1\" class=\"dataframe\">\n",
       "  <thead>\n",
       "    <tr style=\"text-align: right;\">\n",
       "      <th></th>\n",
       "      <th>name</th>\n",
       "      <th>location</th>\n",
       "      <th>customer</th>\n",
       "    </tr>\n",
       "  </thead>\n",
       "  <tbody>\n",
       "    <tr>\n",
       "      <th>0</th>\n",
       "      <td>Rinrada</td>\n",
       "      <td>BKK</td>\n",
       "      <td>GITHUB</td>\n",
       "    </tr>\n",
       "    <tr>\n",
       "      <th>1</th>\n",
       "      <td>Mimisioling</td>\n",
       "      <td>Taiwan</td>\n",
       "      <td>กิตฮับบึค</td>\n",
       "    </tr>\n",
       "  </tbody>\n",
       "</table>\n",
       "</div>"
      ],
      "text/plain": [
       "          name location   customer\n",
       "0      Rinrada      BKK     GITHUB\n",
       "1  Mimisioling   Taiwan  กิตฮับบึค"
      ]
     },
     "execution_count": 46,
     "metadata": {},
     "output_type": "execute_result"
    }
   ],
   "source": [
    "df.head()"
   ]
  },
  {
   "cell_type": "code",
   "execution_count": 61,
   "id": "96cfb1a4-a15c-440d-9fd2-a5faf7b3819f",
   "metadata": {},
   "outputs": [],
   "source": [
    "def clean_eng_customerof(value):\n",
    "    if value in customer_variations: return 'Github'"
   ]
  },
  {
   "cell_type": "code",
   "execution_count": 62,
   "id": "51fcc8a2-3a57-4dc4-acac-c790780e646d",
   "metadata": {},
   "outputs": [],
   "source": [
    "newdf = df.copy(deep=True)\n",
    "newdf['customer'] = newdf['customer'].map(clean_eng_customerof)"
   ]
  },
  {
   "cell_type": "code",
   "execution_count": 63,
   "id": "bbdfc1f2-7bd7-43d3-b648-acd9f2201376",
   "metadata": {},
   "outputs": [
    {
     "data": {
      "text/html": [
       "<div>\n",
       "<style scoped>\n",
       "    .dataframe tbody tr th:only-of-type {\n",
       "        vertical-align: middle;\n",
       "    }\n",
       "\n",
       "    .dataframe tbody tr th {\n",
       "        vertical-align: top;\n",
       "    }\n",
       "\n",
       "    .dataframe thead th {\n",
       "        text-align: right;\n",
       "    }\n",
       "</style>\n",
       "<table border=\"1\" class=\"dataframe\">\n",
       "  <thead>\n",
       "    <tr style=\"text-align: right;\">\n",
       "      <th></th>\n",
       "      <th>name</th>\n",
       "      <th>location</th>\n",
       "      <th>customer</th>\n",
       "    </tr>\n",
       "  </thead>\n",
       "  <tbody>\n",
       "    <tr>\n",
       "      <th>0</th>\n",
       "      <td>Rinrada</td>\n",
       "      <td>BKK</td>\n",
       "      <td>Github</td>\n",
       "    </tr>\n",
       "    <tr>\n",
       "      <th>1</th>\n",
       "      <td>Mimisioling</td>\n",
       "      <td>Taiwan</td>\n",
       "      <td>Github</td>\n",
       "    </tr>\n",
       "  </tbody>\n",
       "</table>\n",
       "</div>"
      ],
      "text/plain": [
       "          name location customer\n",
       "0      Rinrada      BKK   Github\n",
       "1  Mimisioling   Taiwan   Github"
      ]
     },
     "execution_count": 63,
     "metadata": {},
     "output_type": "execute_result"
    }
   ],
   "source": [
    "newdf"
   ]
  },
  {
   "cell_type": "code",
   "execution_count": 50,
   "id": "8402191f-4de1-43c1-9cfa-52931bd241f6",
   "metadata": {},
   "outputs": [],
   "source": [
    "# df.apply all df apply function\n",
    "# df.map just only col selected -> for casual understanding that we only selected specific col to func."
   ]
  },
  {
   "cell_type": "code",
   "execution_count": null,
   "id": "0284f028-278e-4b16-8528-4d79c98fd714",
   "metadata": {},
   "outputs": [],
   "source": []
  }
 ],
 "metadata": {
  "kernelspec": {
   "display_name": "Python 3 (ipykernel)",
   "language": "python",
   "name": "python3"
  },
  "language_info": {
   "codemirror_mode": {
    "name": "ipython",
    "version": 3
   },
   "file_extension": ".py",
   "mimetype": "text/x-python",
   "name": "python",
   "nbconvert_exporter": "python",
   "pygments_lexer": "ipython3",
   "version": "3.10.8"
  }
 },
 "nbformat": 4,
 "nbformat_minor": 5
}
